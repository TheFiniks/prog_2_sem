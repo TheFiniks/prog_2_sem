{
 "cells": [
  {
   "cell_type": "code",
   "execution_count": 34,
   "id": "e2bb534c",
   "metadata": {},
   "outputs": [
    {
     "name": "stdout",
     "output_type": "stream",
     "text": [
      "cycle is: 4 -> 5 -> 3 -> 4\n",
      "cycle is: 4 -> 5 -> 3 -> 4\n",
      "cycle is: 4 -> 5 -> 3 -> 4\n",
      "cycle is: 3 -> 4 -> 5 -> 3\n",
      "cycle is: 4 -> 5 -> 3 -> 4\n",
      "cycle is: 5 -> 3 -> 4 -> 5\n"
     ]
    }
   ],
   "source": [
    "edge_list = [[0, 1], [0, 2], [0, 3], [1, 2], [1, 4], [2, 4], [3, 4], [4, 5], [5, 3]]\n",
    "#edge_list = [[0, 1], [0, 3], [1, 2], [2, 0], [3, 4], [4, 2]]\n",
    "vert_num = 6\n",
    "adj_list = [[] for _ in range(vert_num)]\n",
    "for edge in edge_list:\n",
    "    adj_list[edge[0]].append(edge[1])\n",
    "g = adj_list\n",
    "\n",
    "\n",
    "\n",
    "def dfs(v, p=-1):\n",
    "    global timer\n",
    "    parents[v] = p\n",
    "    colors[v] = 'g'\n",
    "    timer += 1\n",
    "    tin[v] = timer\n",
    "    for u in g[v]:\n",
    "        if colors[u] == 'g':\n",
    "            tmp = u\n",
    "            parents[tmp] = v\n",
    "            ans = f'{tmp}'\n",
    "            flag = True\n",
    "            while flag:\n",
    "                ans = f'{parents[tmp]} -> ' + ans\n",
    "                tmp = parents[tmp]\n",
    "                if u == tmp:\n",
    "                    flag = False\n",
    "            print(f'cycle is: {ans}')\n",
    "            continue\n",
    "        elif colors[u] == 'b':\n",
    "            continue\n",
    "        elif colors[u] == 'w':\n",
    "            dfs(u, v)\n",
    "\n",
    "    colors[v] = 'b'\n",
    "    timer += 1\n",
    "    tout[v] = timer\n",
    "\n",
    "\n",
    "for i in range(vert_num):\n",
    "    parents = [None for _ in range(vert_num)]\n",
    "    colors = ['w' for _ in range(vert_num)]\n",
    "    timer = 0\n",
    "    tin = [None for _ in range(vert_num)]\n",
    "    tout = [None for _ in range(vert_num)]\n",
    "    dfs(i)\n"
   ]
  },
  {
   "cell_type": "code",
   "execution_count": 33,
   "id": "35dac1b6",
   "metadata": {},
   "outputs": [
    {
     "name": "stdout",
     "output_type": "stream",
     "text": [
      "[[1, 3], [3], [3], [], [3, 0], [0]]\n",
      "[5, 4, 2, 0, 1, 3]\n",
      "[4, 2, 2, 1, 6, 5]\n"
     ]
    }
   ],
   "source": [
    "edge_list = [[0,1], [0,3], [1,3], [2,3], [4,3], [4,0], [5,0]]\n",
    "vert_num = 6\n",
    "adj_list = [[] for _ in range(vert_num)]\n",
    "for edge in edge_list:\n",
    "    adj_list[edge[0]].append(edge[1])\n",
    "    \n",
    "g = adj_list\n",
    "print(g)\n",
    " \n",
    "\n",
    "parents = [None for _ in range(vert_num)]\n",
    "colors = ['w' for _ in range(vert_num)]\n",
    "timer = 0\n",
    "tin = [None for _ in range(vert_num)]\n",
    "tout = [None for _ in range(vert_num)]\n",
    "\n",
    "def top_sort():\n",
    "    for v in range(vert_num):\n",
    "        if colors[v] == 'w':\n",
    "            dfs(v)\n",
    "    vert_list = [i for i in range(vert_num)]\n",
    "    ans = [x for y, x in sorted(zip(tout, vert_list), key=lambda pair: pair[0], reverse=True)]\n",
    "    return ans\n",
    "\n",
    "    \n",
    "    \n",
    "\n",
    "ts = top_sort()\n",
    "sa1d = [0 for _ in range(vert_num)]\n",
    "print(ts)\n",
    "for v in range(1, vert_num + 1):\n",
    "    c = 1\n",
    "    for edge in edge_list:\n",
    "        if ts[-v] == edge[0]:\n",
    "            c += sa1d[edge[1]]\n",
    "    sa1d[ts[-v]] += c\n",
    "\n",
    "print(sa1d)"
   ]
  }
 ],
 "metadata": {
  "kernelspec": {
   "display_name": "Python 3 (ipykernel)",
   "language": "python",
   "name": "python3"
  },
  "language_info": {
   "codemirror_mode": {
    "name": "ipython",
    "version": 3
   },
   "file_extension": ".py",
   "mimetype": "text/x-python",
   "name": "python",
   "nbconvert_exporter": "python",
   "pygments_lexer": "ipython3",
   "version": "3.11.5"
  }
 },
 "nbformat": 4,
 "nbformat_minor": 5
}
