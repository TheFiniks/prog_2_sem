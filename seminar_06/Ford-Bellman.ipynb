{
 "cells": [
  {
   "cell_type": "markdown",
   "id": "f75d1805",
   "metadata": {},
   "source": [
    "# Участники группы:\n",
    "\n",
    "## Камиль\n",
    "## Тагир\n",
    "## Ксения\n",
    "## Сергей"
   ]
  },
  {
   "cell_type": "code",
   "execution_count": 4,
   "id": "fcca16bf",
   "metadata": {},
   "outputs": [],
   "source": [
    "def ford_bellman(vert_num, dist, weight_dict):\n",
    "    stop_flag = False\n",
    "    k = 1\n",
    "    while k < vert_num and not stop_flag:\n",
    "        k += 1\n",
    "        stop_flag = True\n",
    "        for _from, _to in weight_dict.keys():\n",
    "            if dist[_from] + weight_dict[(_from, _to)] < dist[_to]:\n",
    "                dist[_to] = dist[_from] + weight_dict[(_from, _to)]\n",
    "                stop_flag = False\n",
    "    return dist"
   ]
  },
  {
   "cell_type": "code",
   "execution_count": 5,
   "id": "f46f436c",
   "metadata": {},
   "outputs": [],
   "source": [
    "def cycle_search(dist, weight_dict):\n",
    "    cycle_flag = False\n",
    "    for _from, _to in weight_dict.keys():\n",
    "        if dist[_from] + weight_dict[(_from, _to)] < dist[_to]:\n",
    "            dist[_to] = dist[_from] + weight_dict[(_from, _to)]\n",
    "            cycle_flag = True\n",
    "            break\n",
    "    return cycle_flag"
   ]
  },
  {
   "cell_type": "code",
   "execution_count": 6,
   "id": "19b718f2",
   "metadata": {},
   "outputs": [
    {
     "name": "stdout",
     "output_type": "stream",
     "text": [
      "[0, -5.4, -4.8, -12.5, -3.5, -9.6, -8.4, -13.5]\n",
      "[1000000, 0, 0.6000000000000005, -7.1, 1.9000000000000004, -4.199999999999999, -3.0, -8.1]\n",
      "[1000000, 999994.6, 0, 999987.5, 999996.5, 999990.4, 999991.6, 999986.5]\n",
      "[1000000, 999994.6, 7.7, 0, 9.0, 2.9, 999991.6, -1.0]\n",
      "[1000000, 999994.6, 2.6, 999987.5, 0, 999990.4, 999991.6, 999986.5]\n",
      "[1000000, 999994.6, 999995.2, 999987.5, 999996.5, 0, 999991.6, 999986.5]\n",
      "[1000000, 999994.6, 3.6000000000000005, -4.1, 4.9, -1.1999999999999997, 0, -5.1]\n",
      "[1000000, 999994.6, 12.6, 999987.5, 10.0, 3.9, 999991.6, 0]\n"
     ]
    }
   ],
   "source": [
    "BIG_NUM = 10 ** 6\n",
    "edge_list = [(0, 1), (1, 3), (1, 6), (3, 2), (3, 7), (4, 2), (6, 3), (7, 4), (7, 5)]\n",
    "vert_num = 8\n",
    "weight_list = [-5.4, 12.3, -3.0, 7.7, -1.0, 2.6, -4.1, 10.0, 3.9]\n",
    "weight_dict = {edge: weight_list[i] for i, edge in enumerate(edge_list)}\n",
    "\n",
    "for start in range(vert_num):\n",
    "    dist = [BIG_NUM for _ in range(vert_num)]\n",
    "    dist[start] = 0\n",
    "    dist = ford_bellman(vert_num, dist, weight_dict)\n",
    "\n",
    "    if cycle_search(dist, weight_dict):\n",
    "        print('the data is incorrect, the graph has a negative cycle!')\n",
    "    else:\n",
    "        print(dist)"
   ]
  },
  {
   "cell_type": "code",
   "execution_count": 7,
   "id": "bb75a5a0",
   "metadata": {},
   "outputs": [
    {
     "name": "stdout",
     "output_type": "stream",
     "text": [
      "the data is incorrect, the graph has a negative cycle!\n",
      "the data is incorrect, the graph has a negative cycle!\n",
      "the data is incorrect, the graph has a negative cycle!\n",
      "the data is incorrect, the graph has a negative cycle!\n",
      "the data is incorrect, the graph has a negative cycle!\n",
      "the data is incorrect, the graph has a negative cycle!\n",
      "the data is incorrect, the graph has a negative cycle!\n",
      "the data is incorrect, the graph has a negative cycle!\n"
     ]
    }
   ],
   "source": [
    "BIG_NUM = 10 ** 6\n",
    "edge_list = [(0, 1), (1, 3), (1, 6), (2, 7), (3, 2), (3, 7), (4, 2), (6, 3), (7, 4), (7, 5)] # добавил ребро (2, 7)\n",
    "vert_num = 8\n",
    "weight_list = [-5.4, 12.3, -3.0, -30, 7.7, -1.0, 2.6, -4.1, 10.0, 3.9] # длина ребра = -30\n",
    "weight_dict = {edge: weight_list[i] for i, edge in enumerate(edge_list)}\n",
    "\n",
    "for start in range(vert_num):\n",
    "    dist = [BIG_NUM for _ in range(vert_num)]\n",
    "    dist[start] = 0\n",
    "    dist = ford_bellman(vert_num, dist, weight_dict)\n",
    "\n",
    "    if cycle_search(dist, weight_dict):\n",
    "        print('the data is incorrect, the graph has a negative cycle!')\n",
    "    else:\n",
    "        print(dist)"
   ]
  },
  {
   "cell_type": "code",
   "execution_count": null,
   "id": "89a3264f",
   "metadata": {},
   "outputs": [],
   "source": []
  }
 ],
 "metadata": {
  "kernelspec": {
   "display_name": "Python 3 (ipykernel)",
   "language": "python",
   "name": "python3"
  },
  "language_info": {
   "codemirror_mode": {
    "name": "ipython",
    "version": 3
   },
   "file_extension": ".py",
   "mimetype": "text/x-python",
   "name": "python",
   "nbconvert_exporter": "python",
   "pygments_lexer": "ipython3",
   "version": "3.11.5"
  }
 },
 "nbformat": 4,
 "nbformat_minor": 5
}
