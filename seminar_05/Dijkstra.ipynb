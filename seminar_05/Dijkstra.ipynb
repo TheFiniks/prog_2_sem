{
 "cells": [
  {
   "cell_type": "code",
   "execution_count": 31,
   "id": "3b6cc3f7",
   "metadata": {},
   "outputs": [
    {
     "name": "stdout",
     "output_type": "stream",
     "text": [
      "1 3 1 4 5 6 3 4 4 9 7 7 8 7 8 6 7 7 7\n"
     ]
    }
   ],
   "source": [
    "class BinaryHeap():\n",
    "    def __init__(self, array):\n",
    "        self.List = array\n",
    "        self.heap_size = len(array)\n",
    "\n",
    "    def heapify(self, i):\n",
    "        while True:\n",
    "            left_child = 2 * i + 1\n",
    "            right_child = 2 * i + 2\n",
    "            smallest_child = i\n",
    "            if left_child < self.heap_size and self.List[left_child] < self.List[smallest_child]:\n",
    "                smallest_child = left_child\n",
    "            if right_child < self.heap_size and self.List[right_child] < self.List[smallest_child]:\n",
    "                smallest_child = right_child\n",
    "            if smallest_child == i:\n",
    "                break\n",
    "            temp = self.List[i]\n",
    "            self.List[i] = self.List[smallest_child]\n",
    "            self.List[smallest_child] = temp\n",
    "            i = smallest_child\n",
    "        return\n",
    "\n",
    "    def build_heap(self):\n",
    "        i = self.heap_size // 2 - 1\n",
    "        while i >= 0:\n",
    "            self.heapify(i)\n",
    "            i -= 1\n",
    "        return self.List\n",
    "\n",
    "\n",
    "data = [8,7,1,6,5,8,3,4,7,9,3,7,6,7,1,4,7,7,4]\n",
    "print(*BinaryHeap(data).build_heap())"
   ]
  },
  {
   "cell_type": "code",
   "execution_count": 64,
   "id": "4e4c1cd9",
   "metadata": {},
   "outputs": [
    {
     "name": "stdout",
     "output_type": "stream",
     "text": [
      "[[0, 0], [5.0, 1], [19.0, 2], [12.0, 3], [23.0, 4], [16.0, 5], [8.0, 6], [13.0, 7]]\n"
     ]
    }
   ],
   "source": [
    "BIG_NUM = 10 ** 6\n",
    "edge_list = [[0, 1], [1, 3], [1, 6], [3, 2], [3, 7], [4, 2], [6, 3], [7, 4], [7, 5]]\n",
    "vert_num = 8\n",
    "weight_list = [5, 12, 3, 7, 1, 2, 4, 10, 3]\n",
    "weight_list = [float(x) for x in weight_list]\n",
    "\n",
    "\n",
    "def construct_adj_list(edge_list, vert_num):\n",
    "    adj_list = [[] for _ in range(vert_num)]\n",
    "    for edge in edge_list:\n",
    "        src = edge[0]\n",
    "        dest = edge[1]\n",
    "        adj_list[src].append(dest)\n",
    "    return adj_list\n",
    "\n",
    "\n",
    "adj_list = construct_adj_list(edge_list, vert_num)\n",
    "\n",
    "\n",
    "def construct_adj_matrix(edge_list, weight_list, vert_num):\n",
    "    adj_matrix = [[BIG_NUM for _ in range(vert_num)] for _ in range(vert_num)]\n",
    "\n",
    "    for edge, weight in zip(edge_list, weight_list):\n",
    "        adj_matrix[edge[0]][edge[1]] = weight\n",
    "    return adj_matrix\n",
    "\n",
    "\n",
    "adj_matrix = construct_adj_matrix(edge_list, weight_list, vert_num)\n",
    "\n",
    "def get_unused_closed(used, dist, array):\n",
    "    BinaryHeap(array).build_heap()\n",
    "    return array[0][1]\n",
    "\n",
    "def dijkstra(adj_list, adj_matrix, src):\n",
    "    vert_num = len(adj_list)\n",
    "    dist = [[BIG_NUM, _] for _ in range(vert_num)]\n",
    "    used = [False for _ in range(vert_num)]\n",
    "\n",
    "    dist[src][0] = 0\n",
    "    array = dist[0:]\n",
    "    \n",
    "    while not all(used):\n",
    "        u = get_unused_closed(used, dist, array)\n",
    "        used[u] = True\n",
    "        array.pop(0)\n",
    "        for v in adj_list[u]:\n",
    "            weight = adj_matrix[u][v]\n",
    "            if dist[v][0] > dist[u][0] + weight:\n",
    "                dist[v][0] = dist[u][0] + weight\n",
    "    return dist\n",
    "\n",
    "print(dijkstra(adj_list, adj_matrix, 0))"
   ]
  }
 ],
 "metadata": {
  "kernelspec": {
   "display_name": "Python 3 (ipykernel)",
   "language": "python",
   "name": "python3"
  },
  "language_info": {
   "codemirror_mode": {
    "name": "ipython",
    "version": 3
   },
   "file_extension": ".py",
   "mimetype": "text/x-python",
   "name": "python",
   "nbconvert_exporter": "python",
   "pygments_lexer": "ipython3",
   "version": "3.11.5"
  }
 },
 "nbformat": 4,
 "nbformat_minor": 5
}
