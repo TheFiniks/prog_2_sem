{
 "cells": [
  {
   "cell_type": "markdown",
   "id": "42740fe8",
   "metadata": {},
   "source": [
    "### В чем была проблема:\n",
    "\n",
    "Когда мы записывали в self.backups значение self, то мы буквально составляли список из ссылок на сам наш стек, именно поэтому при выводе любой позиции списка версий мы всегда получали последнюю. Мы получали то, что и написали, в списке везде self, ну, значит, и выводим просто стек.\n",
    "\n",
    "### Как исправить:\n",
    "\n",
    "В список версий надо добавлять не ссылку, а самое значение этой ссылки, то есть создать отдельную ячейку памяти, чего мы и хотим.\n",
    "\n",
    "### Как я это реализовал:\n",
    "\n",
    "Код функции __str__ я положил в build(), сам __str__ стал ссылаться на build(). Потом при вызове функции backup(), я вызывал функцию super().build(), которая строила то, что мы выводим при вызове print(s) и отчаянно пытались запихнуть в self.backups(), но в виде ссылке. Однако теперь в моем исправленном коде в список версий мы кладем не ссылку, а определенное значение, именно поэтому теперь, когда мы пытаемся получить определенную версию стека, мы получаем корректный ответ.\n",
    "\n",
    "### Что я доработал:\n",
    "\n",
    "Добавил в каждую функцию, изменяющую состояние стека, сохранение нынешней версии в список версий.\n"
   ]
  },
  {
   "cell_type": "code",
   "execution_count": 1,
   "id": "72a2159a",
   "metadata": {},
   "outputs": [
    {
     "name": "stdout",
     "output_type": "stream",
     "text": [
      "4 -> 3 -> 2 -> 1 -> 0 \n",
      "4\n",
      "3 -> 2 -> 1 -> 0 \n"
     ]
    }
   ],
   "source": [
    "class Node():\n",
    "    def __init__(self, value):\n",
    "        self.value = value\n",
    "        self.next = None\n",
    "        \n",
    "class Stack():\n",
    "    def __init__(self):\n",
    "        self.head = Node('head')\n",
    "    \n",
    "    def build(self):\n",
    "        cur = self.head.next\n",
    "        out = ''\n",
    "        sep = '->'\n",
    "        while cur:\n",
    "            out += f'{cur.value} {sep} '\n",
    "            cur = cur.next\n",
    "        out = out[:-3]\n",
    "        return out\n",
    "    \n",
    "    def __str__(self):\n",
    "        return self.build()\n",
    "    \n",
    "    def push(self, value):\n",
    "        new_element = Node(value)\n",
    "        new_element.next = self.head.next\n",
    "        self.head.next = new_element\n",
    "    \n",
    "    def pop(self):\n",
    "        tmp = self.head.next.value\n",
    "        self.head.next = self.head.next.next\n",
    "        return tmp\n",
    "    \n",
    "s = Stack()\n",
    "for i in range(5):\n",
    "    s.push(i)\n",
    "print(s)\n",
    "print(s.pop())\n",
    "print(s)"
   ]
  },
  {
   "cell_type": "code",
   "execution_count": 6,
   "id": "862b65a3",
   "metadata": {},
   "outputs": [
    {
     "name": "stdout",
     "output_type": "stream",
     "text": [
      "4\n",
      "['0 ', '1 -> 0 ', '2 -> 1 -> 0 ', '3 -> 2 -> 1 -> 0 ', '4 -> 3 -> 2 -> 1 -> 0 ']\n",
      "3 -> 2 -> 1 -> 0 \n",
      "3\n",
      "['0 ', '1 -> 0 ', '2 -> 1 -> 0 ', '3 -> 2 -> 1 -> 0 ', '4 -> 3 -> 2 -> 1 -> 0 ', '3 -> 2 -> 1 -> 0 ']\n",
      "2 -> 1 -> 0 \n",
      "3 -> 2 -> 1 -> 0 \n",
      "3 -> 2 -> 1 -> 0 \n"
     ]
    }
   ],
   "source": [
    "class PersistentStack(Stack):\n",
    "    def __init__(self):\n",
    "        self.backups = []\n",
    "        super().__init__()\n",
    "        \n",
    "    def backup(self):\n",
    "        out = super().build()\n",
    "        if out:\n",
    "            self.backups.append(out)\n",
    "    \n",
    "    def get_backup(self, i):\n",
    "        return self.backups[i]\n",
    "        \n",
    "    def push(self, value):\n",
    "        self.backup()\n",
    "        super().push(value)\n",
    "        \n",
    "    def pop(self):\n",
    "        self.backup()\n",
    "        return super().pop()\n",
    "    \n",
    "s = PersistentStack()\n",
    "for i in range(5):\n",
    "    s.push(i)\n",
    "print(s.pop())\n",
    "print([s.get_backup(x) for x in range(len(s.backups))])\n",
    "print(s)\n",
    "print(s.pop())\n",
    "print([s.get_backup(x) for x in range(len(s.backups))])\n",
    "print(s.get_backup(2))\n",
    "print(s.get_backup(5))\n",
    "print(s.get_backup(3))"
   ]
  }
 ],
 "metadata": {
  "kernelspec": {
   "display_name": "Python 3 (ipykernel)",
   "language": "python",
   "name": "python3"
  },
  "language_info": {
   "codemirror_mode": {
    "name": "ipython",
    "version": 3
   },
   "file_extension": ".py",
   "mimetype": "text/x-python",
   "name": "python",
   "nbconvert_exporter": "python",
   "pygments_lexer": "ipython3",
   "version": "3.11.5"
  }
 },
 "nbformat": 4,
 "nbformat_minor": 5
}
